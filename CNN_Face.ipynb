{
  "nbformat": 4,
  "nbformat_minor": 0,
  "metadata": {
    "colab": {
      "name": "CNN_Face.ipynb",
      "provenance": []
    },
    "kernelspec": {
      "name": "python3",
      "display_name": "Python 3"
    },
    "language_info": {
      "name": "python"
    },
    "accelerator": "GPU"
  },
  "cells": [
    {
      "cell_type": "code",
      "execution_count": 1,
      "metadata": {
        "id": "syuoa6qoTDh0"
      },
      "outputs": [],
      "source": [
        "import pickle\n",
        "from sklearn.model_selection import train_test_split\n",
        "from keras.preprocessing.image import ImageDataGenerator\n",
        "from keras.models import Sequential\n",
        "from keras.layers.convolutional import MaxPooling2D\n",
        "from keras.layers.convolutional import Conv2D\n",
        "from keras.layers import Dense, Activation, Flatten, Input, Dropout\n",
        "from tensorflow.keras.optimizers import SGD\n",
        "from keras.models import load_model\n",
        "import cv2 as cv\n",
        "from keras.preprocessing.image import load_img, img_to_array\n",
        "import numpy as np\n",
        "import tensorflow as tf\n",
        "from tensorflow.keras import layers\n",
        "from tensorflow.keras.optimizers import SGD\n",
        "from tensorflow.keras.utils import to_categorical\n",
        "from tensorflow.keras.preprocessing.image import load_img, img_to_array"
      ]
    },
    {
      "cell_type": "code",
      "source": [
        "from google.colab import drive\n",
        "drive.mount('/content/drive')"
      ],
      "metadata": {
        "colab": {
          "base_uri": "https://localhost:8080/"
        },
        "id": "1_1N91_12zXL",
        "outputId": "c6c6f210-0f48-45c8-d0c1-c2d459a5fbed"
      },
      "execution_count": 2,
      "outputs": [
        {
          "output_type": "stream",
          "name": "stdout",
          "text": [
            "Drive already mounted at /content/drive; to attempt to forcibly remount, call drive.mount(\"/content/drive\", force_remount=True).\n"
          ]
        }
      ]
    },
    {
      "cell_type": "code",
      "source": [
        "def load_data():\n",
        "    file = open('/content/drive/MyDrive/dataCNN/face.data', 'rb')\n",
        "\n",
        "    # dump information to that file\n",
        "    (pixels, labels) = pickle.load(file)\n",
        "\n",
        "    # close the file\n",
        "    file.close()\n",
        "\n",
        "    print(pixels.shape)\n",
        "    print(labels.shape)\n",
        "\n",
        "\n",
        "    return pixels, labels"
      ],
      "metadata": {
        "id": "uwHWBoNxTI00"
      },
      "execution_count": 3,
      "outputs": []
    },
    {
      "cell_type": "code",
      "source": [
        "label = ['ko_phai_viet','viet']"
      ],
      "metadata": {
        "id": "aSjD8F4fWmkU"
      },
      "execution_count": 4,
      "outputs": []
    },
    {
      "cell_type": "code",
      "source": [
        "X,y = load_data()\n",
        "X_train, X_test, y_train, y_test = train_test_split( X, y, test_size=0.2, random_state=100)"
      ],
      "metadata": {
        "colab": {
          "base_uri": "https://localhost:8080/"
        },
        "id": "j7KjncSzTngZ",
        "outputId": "edf89b31-b1b0-4d8e-cfea-6f0f265ee073"
      },
      "execution_count": 5,
      "outputs": [
        {
          "output_type": "stream",
          "name": "stdout",
          "text": [
            "(300, 128, 128, 3)\n",
            "(300, 1)\n"
          ]
        }
      ]
    },
    {
      "cell_type": "code",
      "source": [
        "X_train = X_train.astype('float32')\n",
        "X_test = X_test.astype('float32')\n",
        "X_train /= 255.0\n",
        "X_test /= 255.0\n",
        "y_train = to_categorical(y_train, 2)\n",
        "y_test = to_categorical(y_test, 2)"
      ],
      "metadata": {
        "id": "wCwmA1b-3-sc"
      },
      "execution_count": 6,
      "outputs": []
    },
    {
      "cell_type": "code",
      "source": [
        "model = Sequential()"
      ],
      "metadata": {
        "id": "lY_jKZaOTpKS"
      },
      "execution_count": 7,
      "outputs": []
    },
    {
      "cell_type": "code",
      "source": [
        "model.add(Conv2D(32, (3, 3), activation='relu', kernel_initializer='he_uniform', padding='same', input_shape=(128, 128, 3)))\n",
        "model.add(Conv2D(32, (3, 3), activation='relu', kernel_initializer='he_uniform', padding='same'))\n",
        "model.add(MaxPooling2D((2, 2)))\n",
        "model.add(Conv2D(64, (3, 3), activation='relu', kernel_initializer='he_uniform', padding='same'))\n",
        "model.add(Conv2D(64, (3, 3), activation='relu', kernel_initializer='he_uniform', padding='same'))\n",
        "model.add(MaxPooling2D((2, 2)))\n",
        "model.add(Conv2D(128, (3, 3), activation='relu', kernel_initializer='he_uniform', padding='same'))\n",
        "model.add(Conv2D(128, (3, 3), activation='relu', kernel_initializer='he_uniform', padding='same'))\n",
        "model.add(MaxPooling2D((2, 2)))\n",
        "model.add(Flatten())\n",
        "model.add(Dense(128, activation='relu'))\n",
        "model.add(Dense(2, activation='softmax'))"
      ],
      "metadata": {
        "id": "uHgNLRrUTqpw"
      },
      "execution_count": 8,
      "outputs": []
    },
    {
      "cell_type": "code",
      "source": [
        "opt = SGD(lr=0.001, momentum=0.9)\n",
        "model.compile(optimizer=opt, loss='categorical_crossentropy', metrics=['accuracy'])"
      ],
      "metadata": {
        "colab": {
          "base_uri": "https://localhost:8080/"
        },
        "id": "FoCAj8v_TtGE",
        "outputId": "a6754f04-69d9-46c1-d2ff-3601069d539b"
      },
      "execution_count": 9,
      "outputs": [
        {
          "output_type": "stream",
          "name": "stderr",
          "text": [
            "/usr/local/lib/python3.7/dist-packages/keras/optimizer_v2/gradient_descent.py:102: UserWarning: The `lr` argument is deprecated, use `learning_rate` instead.\n",
            "  super(SGD, self).__init__(name, **kwargs)\n"
          ]
        }
      ]
    },
    {
      "cell_type": "code",
      "source": [
        "history = model.fit(X_train, y_train, epochs=20,validation_data=(X_test, y_test), verbose=1)"
      ],
      "metadata": {
        "colab": {
          "base_uri": "https://localhost:8080/"
        },
        "id": "iCRnTJ9hTy5w",
        "outputId": "1ba53400-3640-4db2-a12b-ac43b832ce36"
      },
      "execution_count": 10,
      "outputs": [
        {
          "output_type": "stream",
          "name": "stdout",
          "text": [
            "Epoch 1/20\n",
            "8/8 [==============================] - 13s 218ms/step - loss: 1.2171 - accuracy: 0.4583 - val_loss: 0.7322 - val_accuracy: 0.4333\n",
            "Epoch 2/20\n",
            "8/8 [==============================] - 0s 45ms/step - loss: 0.6090 - accuracy: 0.6750 - val_loss: 0.5583 - val_accuracy: 0.9667\n",
            "Epoch 3/20\n",
            "8/8 [==============================] - 0s 44ms/step - loss: 0.5089 - accuracy: 0.9667 - val_loss: 0.4178 - val_accuracy: 0.9667\n",
            "Epoch 4/20\n",
            "8/8 [==============================] - 0s 45ms/step - loss: 0.3324 - accuracy: 0.9750 - val_loss: 0.2054 - val_accuracy: 0.9667\n",
            "Epoch 5/20\n",
            "8/8 [==============================] - 0s 45ms/step - loss: 0.1500 - accuracy: 0.9750 - val_loss: 0.0935 - val_accuracy: 0.9667\n",
            "Epoch 6/20\n",
            "8/8 [==============================] - 0s 44ms/step - loss: 0.0917 - accuracy: 0.9708 - val_loss: 0.1659 - val_accuracy: 0.9167\n",
            "Epoch 7/20\n",
            "8/8 [==============================] - 0s 45ms/step - loss: 0.2030 - accuracy: 0.9250 - val_loss: 0.0423 - val_accuracy: 1.0000\n",
            "Epoch 8/20\n",
            "8/8 [==============================] - 0s 46ms/step - loss: 0.1730 - accuracy: 0.9250 - val_loss: 0.2332 - val_accuracy: 0.9000\n",
            "Epoch 9/20\n",
            "8/8 [==============================] - 0s 45ms/step - loss: 0.1224 - accuracy: 0.9667 - val_loss: 0.1023 - val_accuracy: 1.0000\n",
            "Epoch 10/20\n",
            "8/8 [==============================] - 0s 45ms/step - loss: 0.0643 - accuracy: 0.9875 - val_loss: 0.0584 - val_accuracy: 0.9667\n",
            "Epoch 11/20\n",
            "8/8 [==============================] - 0s 49ms/step - loss: 0.0505 - accuracy: 0.9833 - val_loss: 0.0284 - val_accuracy: 1.0000\n",
            "Epoch 12/20\n",
            "8/8 [==============================] - 0s 45ms/step - loss: 0.0410 - accuracy: 0.9917 - val_loss: 0.0234 - val_accuracy: 1.0000\n",
            "Epoch 13/20\n",
            "8/8 [==============================] - 0s 45ms/step - loss: 0.0255 - accuracy: 0.9917 - val_loss: 0.0237 - val_accuracy: 1.0000\n",
            "Epoch 14/20\n",
            "8/8 [==============================] - 0s 45ms/step - loss: 0.0180 - accuracy: 0.9958 - val_loss: 0.0126 - val_accuracy: 1.0000\n",
            "Epoch 15/20\n",
            "8/8 [==============================] - 0s 46ms/step - loss: 0.0192 - accuracy: 1.0000 - val_loss: 0.0111 - val_accuracy: 1.0000\n",
            "Epoch 16/20\n",
            "8/8 [==============================] - 0s 46ms/step - loss: 0.0126 - accuracy: 1.0000 - val_loss: 0.0104 - val_accuracy: 1.0000\n",
            "Epoch 17/20\n",
            "8/8 [==============================] - 0s 46ms/step - loss: 0.0092 - accuracy: 1.0000 - val_loss: 0.0075 - val_accuracy: 1.0000\n",
            "Epoch 18/20\n",
            "8/8 [==============================] - 0s 45ms/step - loss: 0.0075 - accuracy: 1.0000 - val_loss: 0.0066 - val_accuracy: 1.0000\n",
            "Epoch 19/20\n",
            "8/8 [==============================] - 0s 45ms/step - loss: 0.0063 - accuracy: 1.0000 - val_loss: 0.0062 - val_accuracy: 1.0000\n",
            "Epoch 20/20\n",
            "8/8 [==============================] - 0s 45ms/step - loss: 0.0058 - accuracy: 1.0000 - val_loss: 0.0053 - val_accuracy: 1.0000\n"
          ]
        }
      ]
    },
    {
      "cell_type": "code",
      "source": [
        "score = model.evaluate(X_test, y_test, verbose=0)\n",
        "print('Test loss: %.4f'% score[0])\n",
        "print('Test accuracy %.4f'% score[1])"
      ],
      "metadata": {
        "colab": {
          "base_uri": "https://localhost:8080/"
        },
        "id": "SWJ048YcWa6D",
        "outputId": "2b04d3eb-6f5e-484d-9e3a-ffe5d47a5df5"
      },
      "execution_count": 11,
      "outputs": [
        {
          "output_type": "stream",
          "name": "stdout",
          "text": [
            "Test loss: 0.0053\n",
            "Test accuracy 1.0000\n"
          ]
        }
      ]
    },
    {
      "cell_type": "code",
      "source": [
        "model.save('Final.h5')"
      ],
      "metadata": {
        "id": "U7dflM_vWeNK"
      },
      "execution_count": 12,
      "outputs": []
    },
    {
      "cell_type": "code",
      "source": [
        "model_5 = load_model('Final.h5')"
      ],
      "metadata": {
        "id": "Oz4WcTC0WiW4"
      },
      "execution_count": 18,
      "outputs": []
    },
    {
      "cell_type": "code",
      "source": [
        "img = load_img(\"trung.jpg\", target_size=(128,128))"
      ],
      "metadata": {
        "id": "qiYTZ_-kWjdQ"
      },
      "execution_count": 17,
      "outputs": []
    },
    {
      "cell_type": "code",
      "source": [
        "img = img_to_array(img)\n",
        "img = img.reshape(1,128,128,3)\n",
        "img = img.astype('float32')\n",
        "img = img / 255.0\n",
        "label[np.argmax(model.predict(img), axis=1)[0]]"
      ],
      "metadata": {
        "id": "XdFIxNIrWk6o",
        "colab": {
          "base_uri": "https://localhost:8080/",
          "height": 35
        },
        "outputId": "1f275d47-42f8-42ca-efe2-c65f3a07f0de"
      },
      "execution_count": 19,
      "outputs": [
        {
          "output_type": "execute_result",
          "data": {
            "text/plain": [
              "'ko_phai_viet'"
            ],
            "application/vnd.google.colaboratory.intrinsic+json": {
              "type": "string"
            }
          },
          "metadata": {},
          "execution_count": 19
        }
      ]
    }
  ]
}